{
 "cells": [
  {
   "cell_type": "code",
   "execution_count": 3,
   "id": "9a3cef54-2e72-4f39-ba96-812c8629e36e",
   "metadata": {},
   "outputs": [
    {
     "name": "stdout",
     "output_type": "stream",
     "text": [
      "Requirement already satisfied: torch in c:\\users\\hp\\anaconda3\\lib\\site-packages (2.5.1)\n",
      "Requirement already satisfied: torchvision in c:\\users\\hp\\anaconda3\\lib\\site-packages (0.20.1)\n",
      "Requirement already satisfied: filelock in c:\\users\\hp\\anaconda3\\lib\\site-packages (from torch) (3.13.1)\n",
      "Requirement already satisfied: typing-extensions>=4.8.0 in c:\\users\\hp\\anaconda3\\lib\\site-packages (from torch) (4.11.0)\n",
      "Requirement already satisfied: networkx in c:\\users\\hp\\anaconda3\\lib\\site-packages (from torch) (3.2.1)\n",
      "Requirement already satisfied: jinja2 in c:\\users\\hp\\anaconda3\\lib\\site-packages (from torch) (3.1.4)\n",
      "Requirement already satisfied: fsspec in c:\\users\\hp\\anaconda3\\lib\\site-packages (from torch) (2024.3.1)\n",
      "Requirement already satisfied: setuptools in c:\\users\\hp\\anaconda3\\lib\\site-packages (from torch) (69.5.1)\n",
      "Requirement already satisfied: sympy==1.13.1 in c:\\users\\hp\\anaconda3\\lib\\site-packages (from torch) (1.13.1)\n",
      "Requirement already satisfied: mpmath<1.4,>=1.1.0 in c:\\users\\hp\\anaconda3\\lib\\site-packages (from sympy==1.13.1->torch) (1.3.0)\n",
      "Requirement already satisfied: numpy in c:\\users\\hp\\anaconda3\\lib\\site-packages (from torchvision) (1.26.4)\n",
      "Requirement already satisfied: pillow!=8.3.*,>=5.3.0 in c:\\users\\hp\\anaconda3\\lib\\site-packages (from torchvision) (10.3.0)\n",
      "Requirement already satisfied: MarkupSafe>=2.0 in c:\\users\\hp\\anaconda3\\lib\\site-packages (from jinja2->torch) (2.1.3)\n"
     ]
    }
   ],
   "source": [
    "!pip install torch torchvision"
   ]
  },
  {
   "cell_type": "code",
   "execution_count": 4,
   "id": "5c4d0451-b7b1-43e5-94e4-1ad07b2f04ce",
   "metadata": {},
   "outputs": [
    {
     "name": "stdout",
     "output_type": "stream",
     "text": [
      "Files already downloaded and verified\n",
      "Files already downloaded and verified\n"
     ]
    }
   ],
   "source": [
    "# Import necessary libraries\n",
    "import torch  # PyTorch library for building and training neural networks\n",
    "import torch.nn as nn  # Contains basic building blocks for neural networks\n",
    "import torch.optim as optim  # Optimizers for training models\n",
    "import torch.nn.functional as F  # Functions like ReLU and Softmax\n",
    "from torch.utils.data import DataLoader  # Data loader utility\n",
    "from torchvision import datasets, transforms  # For dataset handling and transformations\n",
    "import matplotlib.pyplot as plt  # For plotting results\n",
    "\n",
    "# Define the dataset transformation pipeline\n",
    "# The data is converted to tensors and normalized to have mean=0.5 and std=0.5 for each channel.\n",
    "transform = transforms.Compose([\n",
    "    transforms.ToTensor(),\n",
    "    transforms.Normalize((0.5, 0.5, 0.5), (0.5, 0.5, 0.5))  # Normalize the images\n",
    "])\n",
    "\n",
    "# Load the CIFAR-10 dataset\n",
    "# CIFAR-10 is a collection of 60,000 32x32 color images across 10 classes.\n",
    "train_dataset = datasets.CIFAR10(root='./data', train=True, download=True, transform=transform)\n",
    "test_dataset = datasets.CIFAR10(root='./data', train=False, download=True, transform=transform)\n",
    "\n",
    "# DataLoader wraps the dataset and allows efficient batching and shuffling\n",
    "train_loader = DataLoader(train_dataset, batch_size=64, shuffle=True)\n",
    "test_loader = DataLoader(test_dataset, batch_size=64, shuffle=False)\n",
    "\n",
    "# Define the base CNN model for image classification\n",
    "class BaseCNN(nn.Module):\n",
    "    def __init__(self):\n",
    "        super(BaseCNN, self).__init__()\n",
    "        # Define layers: Two convolutional layers followed by a fully connected layer\n",
    "        self.conv1 = nn.Conv2d(3, 16, 3, padding=1)  # Convolution with 16 filters, kernel size 3\n",
    "        self.conv2 = nn.Conv2d(16, 32, 3, padding=1)  # Convolution with 32 filters, kernel size 3\n",
    "        self.pool = nn.MaxPool2d(2, 2)  # Max pooling to downsample feature maps\n",
    "        self.fc1 = nn.Linear(32 * 8 * 8, 128)  # Fully connected layer\n",
    "        self.fc2 = nn.Linear(128, 10)  # Final layer maps to 10 classes\n",
    "\n",
    "    def forward(self, x):\n",
    "        # Define forward pass\n",
    "        x = self.pool(F.relu(self.conv1(x)))  # Conv1 + ReLU + Pooling\n",
    "        x = self.pool(F.relu(self.conv2(x)))  # Conv2 + ReLU + Pooling\n",
    "        x = x.view(-1, 32 * 8 * 8)  # Flatten feature maps for fully connected layers\n",
    "        x = F.relu(self.fc1(x))  # FC1 + ReLU\n",
    "        x = self.fc2(x)  # Output layer (logits)\n",
    "        return x\n",
    "\n",
    "# Instantiate the base model\n",
    "base_model = BaseCNN()\n",
    "\n",
    "# Define loss function (cross-entropy) and optimizer (SGD)\n",
    "criterion = nn.CrossEntropyLoss()  # Suitable for classification tasks\n",
    "optimizer = optim.SGD(base_model.parameters(), lr=0.01, momentum=0.9)  # SGD with momentum\n",
    "\n",
    "\n"
   ]
  },
  {
   "cell_type": "code",
   "execution_count": null,
   "id": "fcc02518-af6e-493f-a25a-757f81d56833",
   "metadata": {},
   "outputs": [],
   "source": []
  }
 ],
 "metadata": {
  "kernelspec": {
   "display_name": "Python 3 (ipykernel)",
   "language": "python",
   "name": "python3"
  },
  "language_info": {
   "codemirror_mode": {
    "name": "ipython",
    "version": 3
   },
   "file_extension": ".py",
   "mimetype": "text/x-python",
   "name": "python",
   "nbconvert_exporter": "python",
   "pygments_lexer": "ipython3",
   "version": "3.12.4"
  }
 },
 "nbformat": 4,
 "nbformat_minor": 5
}
